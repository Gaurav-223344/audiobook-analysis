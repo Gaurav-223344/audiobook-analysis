{
 "cells": [
  {
   "cell_type": "markdown",
   "metadata": {
    "id": "OpTXeFveZ_1E"
   },
   "source": [
    "**Requirments**"
   ]
  },
  {
   "cell_type": "code",
   "execution_count": null,
   "metadata": {
    "id": "8_BHQ5ZOZJ1V"
   },
   "outputs": [],
   "source": [
    "import csv\n",
    "import requests\n",
    "import numpy as np\n",
    "from bs4 import BeautifulSoup"
   ]
  },
  {
   "cell_type": "code",
   "execution_count": null,
   "metadata": {
    "id": "XyTwDT0DZrpi"
   },
   "outputs": [],
   "source": [
    "template = 'https://www.audiobooks.com/browse/listType/list'"
   ]
  },
  {
   "cell_type": "code",
   "execution_count": null,
   "metadata": {
    "id": "3UCVN7o-alHR"
   },
   "outputs": [],
   "source": [
    "response = requests.get(template)"
   ]
  },
  {
   "cell_type": "code",
   "execution_count": null,
   "metadata": {
    "colab": {
     "base_uri": "https://localhost:8080/"
    },
    "executionInfo": {
     "elapsed": 14,
     "status": "ok",
     "timestamp": 1630652534650,
     "user": {
      "displayName": "Gaurav Gaikwad",
      "photoUrl": "https://lh3.googleusercontent.com/a-/AOh14GhMG4w15o7LjEK3mQ1s0QzNh8NnjU2B0Pq6RrPrEA=s64",
      "userId": "15678867178799412475"
     },
     "user_tz": -330
    },
    "id": "ACnR8Jf5bRwJ",
    "outputId": "4f2a9b61-751f-4b41-d618-a4ae66f6cded"
   },
   "outputs": [
    {
     "data": {
      "text/plain": [
       "<Response [200]>"
      ]
     },
     "execution_count": 4,
     "metadata": {},
     "output_type": "execute_result"
    }
   ],
   "source": [
    "response"
   ]
  },
  {
   "cell_type": "markdown",
   "metadata": {
    "id": "IzBT1ZDebV2g"
   },
   "source": [
    "**Making Soup**"
   ]
  },
  {
   "cell_type": "code",
   "execution_count": null,
   "metadata": {
    "id": "ie52TTdUbUP4"
   },
   "outputs": [],
   "source": [
    "soup = BeautifulSoup(response.text,'html.parser')\n",
    "soup"
   ]
  },
  {
   "cell_type": "code",
   "execution_count": null,
   "metadata": {
    "colab": {
     "base_uri": "https://localhost:8080/"
    },
    "executionInfo": {
     "elapsed": 148,
     "status": "ok",
     "timestamp": 1630652536009,
     "user": {
      "displayName": "Gaurav Gaikwad",
      "photoUrl": "https://lh3.googleusercontent.com/a-/AOh14GhMG4w15o7LjEK3mQ1s0QzNh8NnjU2B0Pq6RrPrEA=s64",
      "userId": "15678867178799412475"
     },
     "user_tz": -330
    },
    "id": "CmTCQR1ebz2O",
    "outputId": "ea57f3fb-a259-4b7f-a560-fe6003e720dd"
   },
   "outputs": [
    {
     "data": {
      "text/plain": [
       "20"
      ]
     },
     "execution_count": 6,
     "metadata": {},
     "output_type": "execute_result"
    }
   ],
   "source": [
    "items = soup.find_all('li','col_full clearfix')\n",
    "len(items)"
   ]
  },
  {
   "cell_type": "code",
   "execution_count": null,
   "metadata": {
    "id": "odjswx7ZcT0v"
   },
   "outputs": [],
   "source": [
    "item = items[11]"
   ]
  },
  {
   "cell_type": "code",
   "execution_count": null,
   "metadata": {
    "colab": {
     "base_uri": "https://localhost:8080/",
     "height": 35
    },
    "executionInfo": {
     "elapsed": 44,
     "status": "ok",
     "timestamp": 1630652536011,
     "user": {
      "displayName": "Gaurav Gaikwad",
      "photoUrl": "https://lh3.googleusercontent.com/a-/AOh14GhMG4w15o7LjEK3mQ1s0QzNh8NnjU2B0Pq6RrPrEA=s64",
      "userId": "15678867178799412475"
     },
     "user_tz": -330
    },
    "id": "lLEA9JfpcgpW",
    "outputId": "7a503972-d6fa-4e5a-dd60-a0a27108ef56"
   },
   "outputs": [
    {
     "data": {
      "application/vnd.google.colaboratory.intrinsic+json": {
       "type": "string"
      },
      "text/plain": [
       "'https://www.audiobooks.com/audiobook/body-keeps-the-score-brain-mind-and-body-in-the-healing-of-trauma/501292'"
      ]
     },
     "execution_count": 8,
     "metadata": {},
     "output_type": "execute_result"
    }
   ],
   "source": [
    "item_url = item.find('div','col_two_third').a.get('href')\n",
    "item_url"
   ]
  },
  {
   "cell_type": "code",
   "execution_count": null,
   "metadata": {
    "id": "LmweAAPrc-fV"
   },
   "outputs": [],
   "source": [
    "# making another soup for indivisual item for detail information\n",
    "\n",
    "item_respose = requests.get(item_url)\n",
    "item_soup = BeautifulSoup(item_respose.text,'html.parser')"
   ]
  },
  {
   "cell_type": "code",
   "execution_count": null,
   "metadata": {
    "colab": {
     "base_uri": "https://localhost:8080/",
     "height": 35
    },
    "executionInfo": {
     "elapsed": 43,
     "status": "ok",
     "timestamp": 1630652536014,
     "user": {
      "displayName": "Gaurav Gaikwad",
      "photoUrl": "https://lh3.googleusercontent.com/a-/AOh14GhMG4w15o7LjEK3mQ1s0QzNh8NnjU2B0Pq6RrPrEA=s64",
      "userId": "15678867178799412475"
     },
     "user_tz": -330
    },
    "id": "E5vM2P9gePo3",
    "outputId": "8098600f-b006-44d4-ae7f-cbaca4e5075a"
   },
   "outputs": [
    {
     "data": {
      "application/vnd.google.colaboratory.intrinsic+json": {
       "type": "string"
      },
      "text/plain": [
       "'The Body Keeps the Score: Brain, Mind, and Body in the Healing of Trauma'"
      ]
     },
     "execution_count": 10,
     "metadata": {},
     "output_type": "execute_result"
    }
   ],
   "source": [
    "# To scrap Audiobook title\n",
    "\n",
    "title = item_soup.find('h1','audiobookTitle').text.strip()\n",
    "title"
   ]
  },
  {
   "cell_type": "code",
   "execution_count": null,
   "metadata": {
    "colab": {
     "base_uri": "https://localhost:8080/",
     "height": 35
    },
    "executionInfo": {
     "elapsed": 44,
     "status": "ok",
     "timestamp": 1630652536016,
     "user": {
      "displayName": "Gaurav Gaikwad",
      "photoUrl": "https://lh3.googleusercontent.com/a-/AOh14GhMG4w15o7LjEK3mQ1s0QzNh8NnjU2B0Pq6RrPrEA=s64",
      "userId": "15678867178799412475"
     },
     "user_tz": -330
    },
    "id": "xgiwrOAle9Ak",
    "outputId": "1522a196-a2f7-4cf1-fa62-a7f7c68a35ff"
   },
   "outputs": [
    {
     "data": {
      "application/vnd.google.colaboratory.intrinsic+json": {
       "type": "string"
      },
      "text/plain": [
       "'Bessel Van Der Kolk'"
      ]
     },
     "execution_count": 11,
     "metadata": {},
     "output_type": "execute_result"
    }
   ],
   "source": [
    "# To scrap Audiobook auther\n",
    "\n",
    "auther = item_soup.find('h4','book-written-by').span.text.strip()\n",
    "auther"
   ]
  },
  {
   "cell_type": "code",
   "execution_count": null,
   "metadata": {
    "colab": {
     "base_uri": "https://localhost:8080/",
     "height": 35
    },
    "executionInfo": {
     "elapsed": 44,
     "status": "ok",
     "timestamp": 1630652536017,
     "user": {
      "displayName": "Gaurav Gaikwad",
      "photoUrl": "https://lh3.googleusercontent.com/a-/AOh14GhMG4w15o7LjEK3mQ1s0QzNh8NnjU2B0Pq6RrPrEA=s64",
      "userId": "15678867178799412475"
     },
     "user_tz": -330
    },
    "id": "nXTBDy9OfVda",
    "outputId": "02c97933-48f0-4a9a-834a-ebdc07121927"
   },
   "outputs": [
    {
     "data": {
      "application/vnd.google.colaboratory.intrinsic+json": {
       "type": "string"
      },
      "text/plain": [
       "'Sean Pratt'"
      ]
     },
     "execution_count": 12,
     "metadata": {},
     "output_type": "execute_result"
    }
   ],
   "source": [
    "# To scrap Audiobook narrater\n",
    "\n",
    "narrater = item_soup.find('h4','book-narrated-by').span.text.strip()\n",
    "narrater"
   ]
  },
  {
   "cell_type": "code",
   "execution_count": null,
   "metadata": {
    "colab": {
     "base_uri": "https://localhost:8080/",
     "height": 35
    },
    "executionInfo": {
     "elapsed": 44,
     "status": "ok",
     "timestamp": 1630652536018,
     "user": {
      "displayName": "Gaurav Gaikwad",
      "photoUrl": "https://lh3.googleusercontent.com/a-/AOh14GhMG4w15o7LjEK3mQ1s0QzNh8NnjU2B0Pq6RrPrEA=s64",
      "userId": "15678867178799412475"
     },
     "user_tz": -330
    },
    "id": "2Urd-ccwB0PV",
    "outputId": "181d2886-f019-4061-91e5-4027a27d8535"
   },
   "outputs": [
    {
     "data": {
      "application/vnd.google.colaboratory.intrinsic+json": {
       "type": "string"
      },
      "text/plain": [
       "'$25.00'"
      ]
     },
     "execution_count": 13,
     "metadata": {},
     "output_type": "execute_result"
    }
   ],
   "source": [
    "# To scrap Price\n",
    "\n",
    "price = item_soup.find('div','fleft bookActions__button buy-button ').p.text[5:].strip()\n",
    "price"
   ]
  },
  {
   "cell_type": "code",
   "execution_count": null,
   "metadata": {
    "colab": {
     "base_uri": "https://localhost:8080/",
     "height": 35
    },
    "executionInfo": {
     "elapsed": 44,
     "status": "ok",
     "timestamp": 1630652536019,
     "user": {
      "displayName": "Gaurav Gaikwad",
      "photoUrl": "https://lh3.googleusercontent.com/a-/AOh14GhMG4w15o7LjEK3mQ1s0QzNh8NnjU2B0Pq6RrPrEA=s64",
      "userId": "15678867178799412475"
     },
     "user_tz": -330
    },
    "id": "idb9XPtjfvcz",
    "outputId": "bdc2d5a7-e9a7-4c7c-d4fd-4fe29236707c"
   },
   "outputs": [
    {
     "data": {
      "application/vnd.google.colaboratory.intrinsic+json": {
       "type": "string"
      },
      "text/plain": [
       "'February 2021'"
      ]
     },
     "execution_count": 14,
     "metadata": {},
     "output_type": "execute_result"
    }
   ],
   "source": [
    "# to scap publishing date of audiobook\n",
    "\n",
    "date = item_soup.find('h4','book-published-by').span.text.strip()\n",
    "date"
   ]
  },
  {
   "cell_type": "code",
   "execution_count": null,
   "metadata": {
    "colab": {
     "base_uri": "https://localhost:8080/",
     "height": 35
    },
    "executionInfo": {
     "elapsed": 44,
     "status": "ok",
     "timestamp": 1630652536020,
     "user": {
      "displayName": "Gaurav Gaikwad",
      "photoUrl": "https://lh3.googleusercontent.com/a-/AOh14GhMG4w15o7LjEK3mQ1s0QzNh8NnjU2B0Pq6RrPrEA=s64",
      "userId": "15678867178799412475"
     },
     "user_tz": -330
    },
    "id": "EVQxTw8Og-YI",
    "outputId": "33628e82-41a6-4dca-ac88-c3d733081ee1"
   },
   "outputs": [
    {
     "data": {
      "application/vnd.google.colaboratory.intrinsic+json": {
       "type": "string"
      },
      "text/plain": [
       "'16 hours 15 minutes'"
      ]
     },
     "execution_count": 15,
     "metadata": {},
     "output_type": "execute_result"
    }
   ],
   "source": [
    "# to scrap time duration of audiobook\n",
    "\n",
    "duration = item_soup.find('h4','book-duration').span.text.strip()\n",
    "duration"
   ]
  },
  {
   "cell_type": "code",
   "execution_count": null,
   "metadata": {
    "colab": {
     "base_uri": "https://localhost:8080/",
     "height": 35
    },
    "executionInfo": {
     "elapsed": 43,
     "status": "ok",
     "timestamp": 1630652536020,
     "user": {
      "displayName": "Gaurav Gaikwad",
      "photoUrl": "https://lh3.googleusercontent.com/a-/AOh14GhMG4w15o7LjEK3mQ1s0QzNh8NnjU2B0Pq6RrPrEA=s64",
      "userId": "15678867178799412475"
     },
     "user_tz": -330
    },
    "id": "2iZcGprehflo",
    "outputId": "9490d50e-33b1-4a61-8d07-5e6c8b222aec"
   },
   "outputs": [
    {
     "data": {
      "application/vnd.google.colaboratory.intrinsic+json": {
       "type": "string"
      },
      "text/plain": [
       "'133'"
      ]
     },
     "execution_count": 16,
     "metadata": {},
     "output_type": "execute_result"
    }
   ],
   "source": [
    "# to scrap how many listeners rating this book\n",
    "\n",
    "book_reviews = item_soup.find('h4','book-rating-header').span.text.strip()[1:-1]\n",
    "book_reviews"
   ]
  },
  {
   "cell_type": "code",
   "execution_count": null,
   "metadata": {
    "colab": {
     "base_uri": "https://localhost:8080/",
     "height": 35
    },
    "executionInfo": {
     "elapsed": 43,
     "status": "ok",
     "timestamp": 1630652536021,
     "user": {
      "displayName": "Gaurav Gaikwad",
      "photoUrl": "https://lh3.googleusercontent.com/a-/AOh14GhMG4w15o7LjEK3mQ1s0QzNh8NnjU2B0Pq6RrPrEA=s64",
      "userId": "15678867178799412475"
     },
     "user_tz": -330
    },
    "id": "8yBQl0w_ioeX",
    "outputId": "42c9afa0-d451-43cf-9d2f-8c9962acda9c"
   },
   "outputs": [
    {
     "data": {
      "application/vnd.google.colaboratory.intrinsic+json": {
       "type": "string"
      },
      "text/plain": [
       "'4.58'"
      ]
     },
     "execution_count": 17,
     "metadata": {},
     "output_type": "execute_result"
    }
   ],
   "source": [
    "# to scrap book rating\n",
    "\n",
    "book_ratings = item_soup.find('div','total-book-rating book-rating').get('data-score')\n",
    "book_ratings"
   ]
  },
  {
   "cell_type": "code",
   "execution_count": null,
   "metadata": {
    "colab": {
     "base_uri": "https://localhost:8080/",
     "height": 35
    },
    "executionInfo": {
     "elapsed": 42,
     "status": "ok",
     "timestamp": 1630652536021,
     "user": {
      "displayName": "Gaurav Gaikwad",
      "photoUrl": "https://lh3.googleusercontent.com/a-/AOh14GhMG4w15o7LjEK3mQ1s0QzNh8NnjU2B0Pq6RrPrEA=s64",
      "userId": "15678867178799412475"
     },
     "user_tz": -330
    },
    "id": "CllKxADejJEe",
    "outputId": "f5552d9d-d284-43e6-ad28-ccc954c28bb9"
   },
   "outputs": [
    {
     "data": {
      "application/vnd.google.colaboratory.intrinsic+json": {
       "type": "string"
      },
      "text/plain": [
       "'12'"
      ]
     },
     "execution_count": 18,
     "metadata": {},
     "output_type": "execute_result"
    }
   ],
   "source": [
    "# to scrap how many listeners rating this narreter\n",
    "\n",
    "narreter_reviews = item_soup.find('h4','narrator-rating-header').span.text.strip()[1:-1]\n",
    "narreter_reviews"
   ]
  },
  {
   "cell_type": "code",
   "execution_count": null,
   "metadata": {
    "colab": {
     "base_uri": "https://localhost:8080/",
     "height": 35
    },
    "executionInfo": {
     "elapsed": 42,
     "status": "ok",
     "timestamp": 1630652536022,
     "user": {
      "displayName": "Gaurav Gaikwad",
      "photoUrl": "https://lh3.googleusercontent.com/a-/AOh14GhMG4w15o7LjEK3mQ1s0QzNh8NnjU2B0Pq6RrPrEA=s64",
      "userId": "15678867178799412475"
     },
     "user_tz": -330
    },
    "id": "ycU04gEvjMK-",
    "outputId": "590f8499-7609-4bd5-8c09-51342cbe9716"
   },
   "outputs": [
    {
     "data": {
      "application/vnd.google.colaboratory.intrinsic+json": {
       "type": "string"
      },
      "text/plain": [
       "'4.75'"
      ]
     },
     "execution_count": 19,
     "metadata": {},
     "output_type": "execute_result"
    }
   ],
   "source": [
    "# to scrap narreter rating\n",
    "\n",
    "narreter_ratings = item_soup.find('div','total-narrator-rating narrator-rating').get('data-score')\n",
    "narreter_ratings"
   ]
  },
  {
   "cell_type": "code",
   "execution_count": null,
   "metadata": {
    "colab": {
     "base_uri": "https://localhost:8080/"
    },
    "executionInfo": {
     "elapsed": 41,
     "status": "ok",
     "timestamp": 1630652536022,
     "user": {
      "displayName": "Gaurav Gaikwad",
      "photoUrl": "https://lh3.googleusercontent.com/a-/AOh14GhMG4w15o7LjEK3mQ1s0QzNh8NnjU2B0Pq6RrPrEA=s64",
      "userId": "15678867178799412475"
     },
     "user_tz": -330
    },
    "id": "rRDBsdSBkoA1",
    "outputId": "b3fbaa4b-6977-4a85-eace-69f26337892e"
   },
   "outputs": [
    {
     "data": {
      "text/plain": [
       "['Science & Technology', 'Non-Fiction']"
      ]
     },
     "execution_count": 20,
     "metadata": {},
     "output_type": "execute_result"
    }
   ],
   "source": [
    "# to scrap genre\n",
    "\n",
    "genre = []\n",
    "for i in range(0,6,1):\n",
    "  id = 'genre_'+ str(i)\n",
    "  try:\n",
    "    value = item_soup.find('div',{\"id\":id}).text\n",
    "    genre.append(value)\n",
    "  except AttributeError:\n",
    "    break\n",
    "\n",
    "genre"
   ]
  },
  {
   "cell_type": "code",
   "execution_count": null,
   "metadata": {
    "colab": {
     "base_uri": "https://localhost:8080/",
     "height": 137
    },
    "executionInfo": {
     "elapsed": 37,
     "status": "ok",
     "timestamp": 1630652536022,
     "user": {
      "displayName": "Gaurav Gaikwad",
      "photoUrl": "https://lh3.googleusercontent.com/a-/AOh14GhMG4w15o7LjEK3mQ1s0QzNh8NnjU2B0Pq6RrPrEA=s64",
      "userId": "15678867178799412475"
     },
     "user_tz": -330
    },
    "id": "WzG3pYKdqkSj",
    "outputId": "ad65c5ee-983f-4f5d-f1b9-34382049ac34"
   },
   "outputs": [
    {
     "data": {
      "application/vnd.google.colaboratory.intrinsic+json": {
       "type": "string"
      },
      "text/plain": [
       "'#1 New York Times bestseller\\n\\r\\n“Essential reading for anyone interested in understanding and treating traumatic stress and the scope of its impact on society.” —Alexander McFarlane, Director of the Centre for Traumatic Stress Studies\\n\\r\\nA pioneering researcher transforms our understanding of trauma and offers a bold new paradigm for healing in this\\xa0New York Times\\xa0bestseller\\r\\n\\xa0\\r\\nTrauma is a fact of life. Veterans and their families deal with the painful aftermath of combat; one in five Americans has been molested; one in four grew up with alcoholics; one in three couples have engaged in physical violence. Dr. Bessel van der Kolk, one of the world’s foremost experts on trauma, has spent over three decades working with survivors. In\\xa0The Body Keeps the Score, he uses recent scientific advances to show how trauma literally reshapes both body and brain, compromising sufferers’ capacities for pleasure, engagement, self-control, and trust. He explores innovative treatments—from neurofeedback and meditation to sports, drama, and yoga—that offer new paths to recovery by activating the brain’s natural neuroplasticity. Based on Dr. van der Kolk’s own research and that of other leading specialists,\\xa0The Body Keeps the Score\\xa0exposes the tremendous power of our relationships both to hurt and to heal—and offers new hope for reclaiming lives.\\n\\r\\nCover image: © 2020 Succession H. Matisse / Artists Rights Society (ARS), New York Courtesty of the Archives Henri Matisse, All rights reserved.'"
      ]
     },
     "execution_count": 21,
     "metadata": {},
     "output_type": "execute_result"
    }
   ],
   "source": [
    "# to scrap audiobook summery\n",
    "\n",
    "summery = item_soup.find('div','book-description').text.strip()\n",
    "summery"
   ]
  },
  {
   "cell_type": "code",
   "execution_count": null,
   "metadata": {
    "id": "nQJMwNo_rqgi"
   },
   "outputs": [],
   "source": [
    "# to making function for extracting all info at once\n",
    "\n",
    "def extract_info(item):\n",
    "  \n",
    "  item_url = item.find('div','col_two_third').a.get('href')\n",
    "\n",
    "  item_respose = requests.get(item_url)\n",
    "  item_soup = BeautifulSoup(item_respose.text,'html.parser')\n",
    "\n",
    "  # To scrap Audiobook title\n",
    "  try:\n",
    "    title = item_soup.find('h1','audiobookTitle').text.strip()\n",
    "  except AttributeError:\n",
    "    title = np.nan\n",
    "\n",
    "  # To scrap Audiobook auther\n",
    "  try:\n",
    "    auther = item_soup.find('h4','book-written-by').span.text.strip()\n",
    "  except AttributeError:\n",
    "    auther = np.nan\n",
    "\n",
    "  # To scrap Audiobook narrater\n",
    "  try:\n",
    "    narrater = item_soup.find('h4','book-narrated-by').span.text.strip()\n",
    "  except AttributeError:\n",
    "    narrater = np.nan\n",
    "\n",
    "  # To scrap Price\n",
    "  try:\n",
    "    price = item_soup.find('div','fleft bookActions__button buy-button ').p.text[5:].strip()\n",
    "  except AttributeError:\n",
    "    price = np.nan\n",
    "\n",
    "  # to scap publishing date of audiobook\n",
    "  try:\n",
    "    date = item_soup.find('h4','book-published-by').span.text.strip()\n",
    "  except AttributeError:\n",
    "    date = np.nan\n",
    "\n",
    "  # to scrap time duration of audiobook\n",
    "  try:\n",
    "    duration = item_soup.find('h4','book-duration').span.text.strip()\n",
    "  except AttributeError:\n",
    "    duration = np.nan\n",
    "\n",
    "  # to scrap how many listeners rating this book\n",
    "  try:\n",
    "    book_reviews = item_soup.find('h4','book-rating-header').span.text.strip()[1:-1]\n",
    "  except AttributeError:\n",
    "    book_reviews = np.nan\n",
    "\n",
    "  # to scrap book rating\n",
    "  try:\n",
    "    book_ratings = item_soup.find('div','total-book-rating book-rating').get('data-score')\n",
    "  except AttributeError:\n",
    "    book_ratings = np.nan\n",
    "\n",
    "  # to scrap how many listeners rating this narreter\n",
    "  try:\n",
    "    narreter_reviews = item_soup.find('h4','narrator-rating-header').span.text.strip()[1:-1]\n",
    "  except AttributeError:\n",
    "    narreter_reviews = np.nan\n",
    "\n",
    "  # to scrap narreter rating\n",
    "  try:\n",
    "    narreter_ratings = item_soup.find('div','total-narrator-rating narrator-rating').get('data-score')\n",
    "  except AttributeError:\n",
    "    narreter_reviews = np.nan\n",
    "\n",
    "  # to scrap genre\n",
    "  try:\n",
    "    genre = []\n",
    "  except AttributeError:\n",
    "    genre = np.nan\n",
    "  for i in range(0,6,1):\n",
    "    id = 'genre_'+ str(i)\n",
    "    try:\n",
    "      value = item_soup.find('div',{\"id\":id}).text\n",
    "      genre.append(value)\n",
    "    except AttributeError:\n",
    "      break\n",
    "\n",
    "  # to scrap audiobook summery\n",
    "  try:\n",
    "    summery = item_soup.find('div','book-description').text.strip()\n",
    "  except AttributeError:\n",
    "    summery = np.nan\n",
    "\n",
    "  record = (title,auther,narrater,price,date,duration,book_reviews,book_ratings,narreter_reviews,genre,summery)\n",
    "  return record\n"
   ]
  },
  {
   "cell_type": "code",
   "execution_count": null,
   "metadata": {
    "id": "eWhIAm5Xt6Z2"
   },
   "outputs": [],
   "source": [
    "#  to check this function working or not?\n",
    "\n",
    "valueess = []\n",
    "for item in items:\n",
    "  value = extract_info(item)\n",
    "  valueess.append(value)"
   ]
  },
  {
   "cell_type": "code",
   "execution_count": null,
   "metadata": {
    "colab": {
     "base_uri": "https://localhost:8080/"
    },
    "executionInfo": {
     "elapsed": 34,
     "status": "ok",
     "timestamp": 1630652543215,
     "user": {
      "displayName": "Gaurav Gaikwad",
      "photoUrl": "https://lh3.googleusercontent.com/a-/AOh14GhMG4w15o7LjEK3mQ1s0QzNh8NnjU2B0Pq6RrPrEA=s64",
      "userId": "15678867178799412475"
     },
     "user_tz": -330
    },
    "id": "mtdWIZDJu3zO",
    "outputId": "065b41b3-412a-4a37-cafb-507b535752fd"
   },
   "outputs": [
    {
     "data": {
      "text/plain": [
       "('Greenlights',\n",
       " 'Matthew McConaughey',\n",
       " 'Matthew McConaughey',\n",
       " '$20.00',\n",
       " 'October 2020',\n",
       " '6 hours 42 minutes',\n",
       " '1446',\n",
       " '4.62',\n",
       " '366',\n",
       " ['Health & Wellness', 'Health & Wellness', 'Biography & Memoir'],\n",
       " '#1\\xa0NEW YORK TIMES\\xa0BESTSELLER • Over one million copies sold!\\xa0From the Academy Award®–winning actor, an unconventional memoir filled with raucous stories, outlaw wisdom, and lessons learned the hard way about living with greater satisfaction\\r\\n\\xa0\\r\\n“Unflinchingly honest and remarkably candid, Matthew McConaughey’s book invites us to grapple with the lessons of his life as he did—and to see that the point was never to win, but to understand.”—Mark Manson, author of The Subtle Art of Not Giving a F*ck\\n\\r\\nI’ve been in this life for fifty years, been trying to work out its riddle for forty-two, and been keeping diaries of clues to that riddle for the last thirty-five. Notes about successes and failures, joys and sorrows, things that made me marvel, and things that made me laugh out loud. How to be fair. How to have less stress. How to have fun. How to hurt people less. How to get hurt less. How to be a good man. How to have meaning in life. How to be more me.\\r\\n\\xa0\\r\\nRecently, I worked up the courage to sit down with those diaries. I found stories I experienced, lessons I learned and forgot, poems, prayers, prescriptions, beliefs about what matters, some great photographs, and a whole bunch of bumper stickers. I found a reliable theme, an approach to living that gave me more satisfaction, at the time, and still: If you know how, and when, to deal with life’s challenges—how to get relative with the inevitable—you can enjoy a state of success I call “catching greenlights.”\\r\\n\\xa0\\r\\nSo I took a one-way ticket to the desert and wrote this book: an album, a record, a story of my life so far. This is fifty years of my sights and seens, felts and figured-outs, cools and shamefuls. Graces, truths, and beauties of brutality. Getting away withs, getting caughts, and getting wets while trying to dance between the raindrops.\\r\\n\\xa0\\r\\nHopefully, it’s medicine that tastes good, a couple of aspirin instead of the infirmary, a spaceship to Mars without needing your pilot’s license, going to church without having to be born again, and laughing through the tears.\\r\\n\\xa0\\r\\nIt’s a love letter. To life.\\r\\n\\xa0\\r\\nIt’s also a guide to catching more greenlights—and to realizing that the yellows and reds eventually turn green too.\\r\\n\\xa0\\r\\nGood luck.')"
      ]
     },
     "execution_count": 24,
     "metadata": {},
     "output_type": "execute_result"
    }
   ],
   "source": [
    "valueess[1]"
   ]
  },
  {
   "cell_type": "code",
   "execution_count": null,
   "metadata": {
    "colab": {
     "base_uri": "https://localhost:8080/"
    },
    "executionInfo": {
     "elapsed": 16,
     "status": "ok",
     "timestamp": 1630652543215,
     "user": {
      "displayName": "Gaurav Gaikwad",
      "photoUrl": "https://lh3.googleusercontent.com/a-/AOh14GhMG4w15o7LjEK3mQ1s0QzNh8NnjU2B0Pq6RrPrEA=s64",
      "userId": "15678867178799412475"
     },
     "user_tz": -330
    },
    "id": "DsB4FrzRvPde",
    "outputId": "76f16da2-bf84-43c8-bb8a-0c7487d52152"
   },
   "outputs": [
    {
     "name": "stdout",
     "output_type": "stream",
     "text": [
      "https://www.audiobooks.com/browse/listType/list/page/1\n",
      "https://www.audiobooks.com/browse/listType/list/page/2\n",
      "https://www.audiobooks.com/browse/listType/list/page/3\n",
      "https://www.audiobooks.com/browse/listType/list/page/4\n",
      "https://www.audiobooks.com/browse/listType/list/page/5\n",
      "https://www.audiobooks.com/browse/listType/list/page/6\n",
      "https://www.audiobooks.com/browse/listType/list/page/7\n",
      "https://www.audiobooks.com/browse/listType/list/page/8\n",
      "https://www.audiobooks.com/browse/listType/list/page/9\n",
      "https://www.audiobooks.com/browse/listType/list/page/10\n"
     ]
    }
   ],
   "source": [
    "# creating url for next pages\n",
    "\n",
    "def url_creation(page_no):\n",
    "  template = f'https://www.audiobooks.com/browse/listType/list/page/{page_no}'\n",
    "  return template\n",
    "\n",
    "# there ara more than 5000 pages but now we only check url fuction for 10 pages\n",
    "for pg in range(1,11,1):\n",
    "  url = url_creation(pg)\n",
    "  print(url)"
   ]
  },
  {
   "cell_type": "code",
   "execution_count": null,
   "metadata": {
    "id": "ikIjF9Yyu6-m"
   },
   "outputs": [],
   "source": [
    "# Put all together\n",
    "\n",
    "import csv\n",
    "import requests\n",
    "import numpy as np\n",
    "from bs4 import BeautifulSoup\n",
    "\n",
    "def url_creation(page_no):\n",
    "  template = f'https://www.audiobooks.com/browse/listType/list/page/{page_no}'\n",
    "  return template\n",
    "\n",
    "# to making function for extracting all info at once\n",
    "\n",
    "def extract_info(item):\n",
    "  \n",
    "  item_url = item.find('div','col_two_third').a.get('href')\n",
    "\n",
    "  item_respose = requests.get(item_url)\n",
    "  item_soup = BeautifulSoup(item_respose.text,'html.parser')\n",
    "\n",
    "  # To scrap Audiobook title\n",
    "  try:\n",
    "    title = item_soup.find('h1','audiobookTitle').text.strip()\n",
    "  except AttributeError:\n",
    "    title = np.nan\n",
    "\n",
    "  # To scrap Audiobook auther\n",
    "  try:\n",
    "    auther = item_soup.find('h4','book-written-by').span.text.strip()\n",
    "  except AttributeError:\n",
    "    auther = np.nan\n",
    "\n",
    "  # To scrap Audiobook narrater\n",
    "  try:\n",
    "    narrater = item_soup.find('h4','book-narrated-by').span.text.strip()\n",
    "  except AttributeError:\n",
    "    narrater = np.nan\n",
    "\n",
    "  # to scrap price of audiobook\n",
    "  try:\n",
    "    price = item_soup.find('div','fleft bookActions__button buy-button ').p.text[5:].strip()\n",
    "  except AttributeError:\n",
    "    price = np.nan\n",
    "\n",
    "  # to scap publishing date of audiobook\n",
    "  try:\n",
    "    date = item_soup.find('h4','book-published-by').span.text.strip()\n",
    "  except AttributeError:\n",
    "    date = np.nan\n",
    "\n",
    "  # to scrap time duration of audiobook\n",
    "  try:\n",
    "    duration = item_soup.find('h4','book-duration').span.text.strip()\n",
    "  except AttributeError:\n",
    "    duration = np.nan\n",
    "\n",
    "  # to scrap how many listeners rating this book\n",
    "  try:\n",
    "    book_reviews = item_soup.find('h4','book-rating-header').span.text.strip()[1:-1]\n",
    "  except AttributeError:\n",
    "    book_reviews = np.nan\n",
    "\n",
    "  # to scrap book rating\n",
    "  try:\n",
    "    book_ratings = item_soup.find('div','total-book-rating book-rating').get('data-score')\n",
    "  except AttributeError:\n",
    "    book_ratings = np.nan\n",
    "\n",
    "  # to scrap how many listeners rating this narreter\n",
    "  try:\n",
    "    narreter_reviews = item_soup.find('h4','narrator-rating-header').span.text.strip()[1:-1]\n",
    "  except AttributeError:\n",
    "    narreter_reviews = np.nan\n",
    "  \n",
    "  # to scrap narreter rating\n",
    "  try:\n",
    "    narreter_ratings = item_soup.find('div','total-narrator-rating narrator-rating').get('data-score')\n",
    "  except AttributeError:\n",
    "    narreter_ratings = np.nan\n",
    "\n",
    "  # to scrap genre\n",
    "  try:\n",
    "    genre = []\n",
    "  except AttributeError:\n",
    "    genre = np.nan\n",
    "  for i in range(0,6,1):\n",
    "    id = 'genre_'+ str(i)\n",
    "    try:\n",
    "      value = item_soup.find('div',{\"id\":id}).text\n",
    "      genre.append(value)\n",
    "    except AttributeError:\n",
    "      break\n",
    "\n",
    "  # to scrap audiobook summery\n",
    "  try:\n",
    "    summery = item_soup.find('div','book-description').text.strip()\n",
    "  except AttributeError:\n",
    "    summery = np.nan\n",
    "\n",
    "  record = (title,auther,narrater,price,date,duration,book_reviews,book_ratings,narreter_reviews,narreter_ratings,genre,summery,item_url)\n",
    "  return record\n",
    "\n",
    "def audiobook_scraping():\n",
    "  records = []\n",
    "\n",
    "  for pg in range(1,5001,1):      # for scrapping page 1 to 5000 \n",
    "\n",
    "    template = url_creation(pg)\n",
    "    response = requests.get(template)\n",
    "    soup = BeautifulSoup(response.text,'html.parser')\n",
    "\n",
    "    items = soup.find_all('li','col_full clearfix')\n",
    "    if len(items) > 0 :\n",
    "      for item in items:\n",
    "        record = extract_info(item)\n",
    "        records.append(record)\n",
    "    else:\n",
    "      break\n",
    "  \n",
    "  with open('Audiobook.csv', 'w', newline='', encoding='utf-8') as f:\n",
    "    writer = csv.writer(f)\n",
    "    writer.writerow(['title','auther','narrater','price','date','duration','book_reviews','book_ratings','narreter_reviews','narreter_ratings','genre','summery','Url'])\n",
    "    writer.writerows(records)\n"
   ]
  },
  {
   "cell_type": "markdown",
   "metadata": {
    "id": "TBIZOxdZjpCH"
   },
   "source": [
    "#### 5000 pages are divided into 4 groups 1-1250, 1251-2500, 2501-3750, 3751-5001. These 4 groups are used in 4 scripts."
   ]
  },
  {
   "cell_type": "code",
   "execution_count": null,
   "metadata": {
    "id": "bylpzGT7UtFH"
   },
   "outputs": [],
   "source": [
    "\n",
    "import csv\n",
    "import requests\n",
    "import numpy as np\n",
    "from bs4 import BeautifulSoup\n",
    "\n",
    "def url_creation(page_no):\n",
    "  template = f'https://www.audiobooks.com/browse/listType/list/page/{page_no}'\n",
    "  return template\n",
    "\n",
    "# to making function for extracting all info at once\n",
    "\n",
    "def extract_info(item):\n",
    "  \n",
    "  item_url = item.find('div','col_two_third').a.get('href')\n",
    "\n",
    "  item_respose = requests.get(item_url)\n",
    "  item_soup = BeautifulSoup(item_respose.text,'html.parser')\n",
    "\n",
    "  # To scrap Audiobook title\n",
    "  try:\n",
    "    title = item_soup.find('h1','audiobookTitle').text.strip()\n",
    "  except AttributeError:\n",
    "    title = np.nan\n",
    "\n",
    "  # To scrap Audiobook auther\n",
    "  try:\n",
    "    auther = item_soup.find('h4','book-written-by').span.text.strip()\n",
    "  except AttributeError:\n",
    "    auther = np.nan\n",
    "\n",
    "  # To scrap Audiobook narrater\n",
    "  try:\n",
    "    narrater = item_soup.find('h4','book-narrated-by').span.text.strip()\n",
    "  except AttributeError:\n",
    "    narrater = np.nan\n",
    "\n",
    "  # to scrap price of audiobook\n",
    "  try:\n",
    "    price = item_soup.find('div','fleft bookActions__button buy-button ').p.text[5:].strip()\n",
    "  except AttributeError:\n",
    "    price = np.nan\n",
    "\n",
    "  # to scap publishing date of audiobook\n",
    "  try:\n",
    "    date = item_soup.find('h4','book-published-by').span.text.strip()\n",
    "  except AttributeError:\n",
    "    date = np.nan\n",
    "\n",
    "  # to scrap time duration of audiobook\n",
    "  try:\n",
    "    duration = item_soup.find('h4','book-duration').span.text.strip()\n",
    "  except AttributeError:\n",
    "    duration = np.nan\n",
    "\n",
    "  # to scrap how many listeners rating this book\n",
    "  try:\n",
    "    book_reviews = item_soup.find('h4','book-rating-header').span.text.strip()[1:-1]\n",
    "  except AttributeError:\n",
    "    book_reviews = np.nan\n",
    "\n",
    "  # to scrap book rating\n",
    "  try:\n",
    "    book_ratings = item_soup.find('div','total-book-rating book-rating').get('data-score')\n",
    "  except AttributeError:\n",
    "    book_ratings = np.nan\n",
    "\n",
    "  # to scrap how many listeners rating this narreter\n",
    "  try:\n",
    "    narreter_reviews = item_soup.find('h4','narrator-rating-header').span.text.strip()[1:-1]\n",
    "  except AttributeError:\n",
    "    narreter_reviews = np.nan\n",
    "  \n",
    "  # to scrap narreter rating\n",
    "  try:\n",
    "    narreter_ratings = item_soup.find('div','total-narrator-rating narrator-rating').get('data-score')\n",
    "  except AttributeError:\n",
    "    narreter_ratings = np.nan\n",
    "\n",
    "  # to scrap genre\n",
    "  try:\n",
    "    genre = []\n",
    "  except AttributeError:\n",
    "    genre = np.nan\n",
    "  for i in range(0,6,1):\n",
    "    id = 'genre_'+ str(i)\n",
    "    try:\n",
    "      value = item_soup.find('div',{\"id\":id}).text\n",
    "      genre.append(value)\n",
    "    except AttributeError:\n",
    "      break\n",
    "\n",
    "  # to scrap audiobook summery\n",
    "  try:\n",
    "    summery = item_soup.find('div','book-description').text.strip()\n",
    "  except AttributeError:\n",
    "    summery = np.nan\n",
    "\n",
    "  record = (title,auther,narrater,price,date,duration,book_reviews,book_ratings,narreter_reviews,narreter_ratings,genre,summery,item_url)\n",
    "  return record\n",
    "\n",
    "def audiobook_scraping(start_pg,end_page):\n",
    "  records = []\n",
    "\n",
    "  for pg in range(start_pg,end_page+1,1):      # for scrapping page 1 to 5000 \n",
    "\n",
    "    template = url_creation(pg)\n",
    "    response = requests.get(template)\n",
    "    soup = BeautifulSoup(response.text,'html.parser')\n",
    "\n",
    "    items = soup.find_all('li','col_full clearfix')\n",
    "    if len(items) > 0 :\n",
    "      for item in items:\n",
    "        record = extract_info(item)\n",
    "        records.append(record)\n",
    "    else:\n",
    "      break\n",
    "  \n",
    "  with open('Audiobook'+str(start_pg)+'_to_'+str(end_page)+'.csv', 'w', newline='', encoding='utf-8') as f:\n",
    "    writer = csv.writer(f)\n",
    "    writer.writerow(['title','auther','narrater','price','date','duration','book_reviews','book_ratings','narreter_reviews','narreter_ratings','genre','summery','Url'])\n",
    "    writer.writerows(records)\n"
   ]
  },
  {
   "cell_type": "code",
   "execution_count": null,
   "metadata": {
    "id": "kr85r8Ge8snF"
   },
   "outputs": [],
   "source": [
    "audiobook_scraping(1,1250)"
   ]
  },
  {
   "cell_type": "code",
   "execution_count": null,
   "metadata": {},
   "outputs": [],
   "source": [
    "audiobook_scraping(1251,2500)"
   ]
  },
  {
   "cell_type": "code",
   "execution_count": null,
   "metadata": {},
   "outputs": [],
   "source": [
    "audiobook_scraping(2501,3750)"
   ]
  },
  {
   "cell_type": "code",
   "execution_count": null,
   "metadata": {},
   "outputs": [],
   "source": [
    "audiobook_scraping(3751,5000)"
   ]
  }
 ],
 "metadata": {
  "accelerator": "GPU",
  "colab": {
   "authorship_tag": "ABX9TyOnV0M8jAIPcR0UEAUjgFkV",
   "collapsed_sections": [],
   "name": "Audiobook_Srapping.ipynb",
   "provenance": []
  },
  "kernelspec": {
   "display_name": "Python 3",
   "language": "python",
   "name": "python3"
  },
  "language_info": {
   "codemirror_mode": {
    "name": "ipython",
    "version": 3
   },
   "file_extension": ".py",
   "mimetype": "text/x-python",
   "name": "python",
   "nbconvert_exporter": "python",
   "pygments_lexer": "ipython3",
   "version": "3.8.8"
  }
 },
 "nbformat": 4,
 "nbformat_minor": 1
}
